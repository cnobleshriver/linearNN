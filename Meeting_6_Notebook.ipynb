{
  "nbformat": 4,
  "nbformat_minor": 0,
  "metadata": {
    "colab": {
      "private_outputs": true,
      "provenance": [],
      "collapsed_sections": [],
      "include_colab_link": true
    },
    "kernelspec": {
      "name": "python3",
      "display_name": "Python 3"
    },
    "language_info": {
      "name": "python"
    }
  },
  "cells": [
    {
      "cell_type": "markdown",
      "metadata": {
        "id": "view-in-github",
        "colab_type": "text"
      },
      "source": [
        "<a href=\"https://colab.research.google.com/github/cnobleshriver/linearNN/blob/main/Meeting_6_Notebook.ipynb\" target=\"_parent\"><img src=\"https://colab.research.google.com/assets/colab-badge.svg\" alt=\"Open In Colab\"/></a>"
      ]
    },
    {
      "cell_type": "code",
      "source": [
        "import numpy as np\n",
        "import torchvision.datasets as datasets\n",
        "import torch.nn.functional as F\n",
        "from torch import nn\n",
        "import torch"
      ],
      "metadata": {
        "id": "YjCcDtRQ83Rd"
      },
      "execution_count": null,
      "outputs": []
    },
    {
      "cell_type": "markdown",
      "source": [
        "# Download and Explore the MNIST dataset of handwritten digits"
      ],
      "metadata": {
        "id": "bcu1K3mCsoFH"
      }
    },
    {
      "cell_type": "code",
      "source": [
        "# Download the MNIST dataset from PyTorch\n",
        "mnist_trainset = datasets.MNIST(root='./data', train=True, download=True, transform=None)\n",
        "\n",
        "# Get the data and labels as numpy arrays instead of a PyTorch Dataset\n",
        "data = np.array([np.array(img) for img, _ in mnist_trainset], dtype=float)\n",
        "labels = np.array([label for _, label in mnist_trainset], dtype=int)\n",
        "\n",
        "# Show the shapes of the numpy arrays\n",
        "print(\"Data shape:\", data.shape)\n",
        "print(\"Labels shape:\", labels.shape)"
      ],
      "metadata": {
        "id": "sMlcXUT986GJ"
      },
      "execution_count": null,
      "outputs": []
    },
    {
      "cell_type": "code",
      "source": [
        "print(\"Data min and max:\", data.min(), data.max())\n",
        "print(\"Labels min and max:\", labels.min(), labels.max())"
      ],
      "metadata": {
        "id": "pn9Kp_PS-iy1"
      },
      "execution_count": null,
      "outputs": []
    },
    {
      "cell_type": "code",
      "source": [
        "import matplotlib.pyplot as plt\n",
        "\n",
        "for i in range(3):\n",
        "    print(\"Label:\", labels[i])\n",
        "    plt.imshow(data[i], cmap=\"gray\")\n",
        "    plt.show()"
      ],
      "metadata": {
        "id": "eViMbZbw-SAX"
      },
      "execution_count": null,
      "outputs": []
    },
    {
      "cell_type": "code",
      "source": [
        "num_samples, height, width = data.shape\n",
        "print(\"Number of samples:\", num_samples)\n",
        "print(\"Image height:\", height)\n",
        "print(\"Image width:\", width)"
      ],
      "metadata": {
        "id": "7xnN2ivjBjr7"
      },
      "execution_count": null,
      "outputs": []
    },
    {
      "cell_type": "code",
      "source": [
        "flat_images = data.reshape((num_samples, height*width))\n",
        "print(flat_images.shape)"
      ],
      "metadata": {
        "id": "k2GaQPtaB8p2"
      },
      "execution_count": null,
      "outputs": []
    },
    {
      "cell_type": "markdown",
      "source": [
        "One-hot vectors are vectors of all zeros except for one position which is a 1"
      ],
      "metadata": {
        "id": "gZ4G5ckmtbbB"
      }
    },
    {
      "cell_type": "code",
      "source": [
        "# Build an input tensor from the images\n",
        "X = torch.tensor(flat_images).float()\n",
        "\n",
        "# Normalize X between 0 and 1\n",
        "X /= X.max()\n",
        "\n",
        "# Convert the labels into a tensor of one-hot vectors\n",
        "y = F.one_hot(torch.tensor(labels), 10).float()\n",
        "\n",
        "print(X.shape)\n",
        "print(y.shape)"
      ],
      "metadata": {
        "id": "oYAytR2PrJ2M"
      },
      "execution_count": null,
      "outputs": []
    },
    {
      "cell_type": "code",
      "source": [
        "print(\"Label:\", labels[0])\n",
        "print(\"One-hot vector:\", y[0])"
      ],
      "metadata": {
        "id": "N4TcSGSItLZP"
      },
      "execution_count": null,
      "outputs": []
    },
    {
      "cell_type": "markdown",
      "source": [
        "# Define a model with nn.Linear(in_features, out_features)\n",
        "(1 line)"
      ],
      "metadata": {
        "id": "c2IA3LCmtkzR"
      }
    },
    {
      "cell_type": "code",
      "source": [
        "# TODO\n",
        "model = nn.Linear(784, 10)"
      ],
      "metadata": {
        "id": "tTWPAjDSthlS"
      },
      "execution_count": null,
      "outputs": []
    },
    {
      "cell_type": "markdown",
      "source": [
        "# Define a loss function with nn.CrossEntropyLoss()\n",
        "(1 line)"
      ],
      "metadata": {
        "id": "APUMCCLHyB2z"
      }
    },
    {
      "cell_type": "code",
      "source": [
        "# TODO \n",
        "loss_fn = nn.CrossEntropyLoss()"
      ],
      "metadata": {
        "id": "pVw4QKpeuSIj"
      },
      "execution_count": null,
      "outputs": []
    },
    {
      "cell_type": "markdown",
      "source": [
        "# Define an optimizer with torch.optim.SGD(parameters, learning_rate)\n",
        "hint: you can get the model's parameters with model.parameters()\n",
        "(1 line)"
      ],
      "metadata": {
        "id": "uKWN3D4dyO9l"
      }
    },
    {
      "cell_type": "code",
      "source": [
        "# TODO\n",
        "optimizer = torch.optim.SGD(model.parameters(), lr=0.05)"
      ],
      "metadata": {
        "id": "QKZcCOP630xw"
      },
      "execution_count": null,
      "outputs": []
    },
    {
      "cell_type": "markdown",
      "source": [
        "# Finish writting the training loop"
      ],
      "metadata": {
        "id": "0MHz5-yzycE7"
      }
    },
    {
      "cell_type": "code",
      "source": [
        "epochs = 10\n",
        "batch_size = 32\n",
        "\n",
        "for epoch in range(10):\n",
        "    for i in range(0, len(X), batch_size):\n",
        "        batch = X[i:i+batch_size]\n",
        "        batch_one_hots = y[i:i+batch_size]\n",
        "        # TODO\n",
        "        prediction = model(batch)\n",
        "        y_hat = F.softmax(prediction, dim=1)\n",
        "        loss = loss_fn(y_hat, batch_one_hots)\n",
        "        loss.backward() # Calculate the gradient of the parameters with respect to the loss\n",
        "        optimizer.step() # parameters -= lr * gradient\n",
        "        optimizer.zero_grad() # Reset the gradient of the parameters to 0"
      ],
      "metadata": {
        "id": "vRSF0h5MI8xT"
      },
      "execution_count": null,
      "outputs": []
    },
    {
      "cell_type": "markdown",
      "source": [
        "# Evaluate your model, calculate the loss and accuracy across the dataset"
      ],
      "metadata": {
        "id": "gGNSk5C42dhu"
      }
    },
    {
      "cell_type": "code",
      "source": [
        "# final_prediction = model(X)\n",
        "# final_num = torch.argmax(final_prediction, dim=1)\n",
        "# accuracy = torch.sum(final_num == torch.tensor(labels)) / num_samples\n",
        "accuracy = torch.sum(torch.argmax(model(X), dim=1) == torch.tensor(labels)) / num_samples\n",
        "print(accuracy)"
      ],
      "metadata": {
        "id": "ZIJcyWasHIlW"
      },
      "execution_count": null,
      "outputs": []
    }
  ]
}